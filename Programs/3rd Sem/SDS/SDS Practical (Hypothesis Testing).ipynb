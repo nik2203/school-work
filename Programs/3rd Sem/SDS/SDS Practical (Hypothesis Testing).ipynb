{
 "cells": [
  {
   "cell_type": "code",
   "execution_count": 42,
   "id": "9e4dd5ec",
   "metadata": {},
   "outputs": [],
   "source": [
    "import pandas as pd\n",
    "import seaborn as sns\n",
    "import numpy as np\n",
    "import matplotlib.pyplot as plt\n",
    "import math\n",
    "import scipy\n",
    "from scipy import stats\n",
    "import seaborn as sns\n",
    "from scipy.stats import chi2_contingency\n",
    "\n",
    "data = pd.read_csv (\"BKB.csv\")\n",
    "married_data=data[data['Gender'] == 'Female']\n",
    "nom_data=data[data['Gender'] != 'Female']"
   ]
  },
  {
   "cell_type": "code",
   "execution_count": 43,
   "id": "72638842",
   "metadata": {},
   "outputs": [
    {
     "data": {
      "text/html": [
       "<div>\n",
       "<style scoped>\n",
       "    .dataframe tbody tr th:only-of-type {\n",
       "        vertical-align: middle;\n",
       "    }\n",
       "\n",
       "    .dataframe tbody tr th {\n",
       "        vertical-align: top;\n",
       "    }\n",
       "\n",
       "    .dataframe thead th {\n",
       "        text-align: right;\n",
       "    }\n",
       "</style>\n",
       "<table border=\"1\" class=\"dataframe\">\n",
       "  <thead>\n",
       "    <tr style=\"text-align: right;\">\n",
       "      <th></th>\n",
       "      <th>Applicant ID</th>\n",
       "      <th>Loan Type</th>\n",
       "      <th>Gender</th>\n",
       "      <th>Marital Status</th>\n",
       "      <th>Accomodation Type</th>\n",
       "      <th>No of years in the current address</th>\n",
       "      <th>No. of Years in the current job</th>\n",
       "      <th>Monthly Salary</th>\n",
       "      <th>Balance in Savings Account</th>\n",
       "      <th>Loan Amount Requested</th>\n",
       "      <th>Term</th>\n",
       "      <th>Down Payment</th>\n",
       "      <th>EMI Affordable</th>\n",
       "    </tr>\n",
       "  </thead>\n",
       "  <tbody>\n",
       "    <tr>\n",
       "      <th>0</th>\n",
       "      <td>1</td>\n",
       "      <td>Home Loan</td>\n",
       "      <td>Male</td>\n",
       "      <td>Married</td>\n",
       "      <td>Family Other</td>\n",
       "      <td>32</td>\n",
       "      <td>7</td>\n",
       "      <td>8000</td>\n",
       "      <td>1406</td>\n",
       "      <td>500000</td>\n",
       "      <td>120</td>\n",
       "      <td>700000</td>\n",
       "      <td>8690</td>\n",
       "    </tr>\n",
       "    <tr>\n",
       "      <th>1</th>\n",
       "      <td>2</td>\n",
       "      <td>Home Loan</td>\n",
       "      <td>Male</td>\n",
       "      <td>Married</td>\n",
       "      <td>Family Other</td>\n",
       "      <td>3</td>\n",
       "      <td>17</td>\n",
       "      <td>30000</td>\n",
       "      <td>42235</td>\n",
       "      <td>1000000</td>\n",
       "      <td>180</td>\n",
       "      <td>300000</td>\n",
       "      <td>16000</td>\n",
       "    </tr>\n",
       "    <tr>\n",
       "      <th>2</th>\n",
       "      <td>3</td>\n",
       "      <td>Home Loan</td>\n",
       "      <td>Male</td>\n",
       "      <td>Married</td>\n",
       "      <td>Company Provided</td>\n",
       "      <td>7</td>\n",
       "      <td>8</td>\n",
       "      <td>8000</td>\n",
       "      <td>15217</td>\n",
       "      <td>700000</td>\n",
       "      <td>120</td>\n",
       "      <td>955000</td>\n",
       "      <td>15000</td>\n",
       "    </tr>\n",
       "    <tr>\n",
       "      <th>3</th>\n",
       "      <td>4</td>\n",
       "      <td>Home Improvement</td>\n",
       "      <td>Male</td>\n",
       "      <td>Married</td>\n",
       "      <td>Owned</td>\n",
       "      <td>15</td>\n",
       "      <td>7</td>\n",
       "      <td>20462</td>\n",
       "      <td>29551</td>\n",
       "      <td>250000</td>\n",
       "      <td>84</td>\n",
       "      <td>250000</td>\n",
       "      <td>5856</td>\n",
       "    </tr>\n",
       "    <tr>\n",
       "      <th>4</th>\n",
       "      <td>5</td>\n",
       "      <td>Home Loan</td>\n",
       "      <td>Male</td>\n",
       "      <td>Married</td>\n",
       "      <td>Family Other</td>\n",
       "      <td>4</td>\n",
       "      <td>10</td>\n",
       "      <td>13534</td>\n",
       "      <td>2056</td>\n",
       "      <td>400000</td>\n",
       "      <td>180</td>\n",
       "      <td>700000</td>\n",
       "      <td>6157</td>\n",
       "    </tr>\n",
       "  </tbody>\n",
       "</table>\n",
       "</div>"
      ],
      "text/plain": [
       "   Applicant ID         Loan Type Gender Marital Status Accomodation Type  \\\n",
       "0             1         Home Loan   Male        Married      Family Other   \n",
       "1             2         Home Loan   Male        Married      Family Other   \n",
       "2             3         Home Loan   Male        Married  Company Provided   \n",
       "3             4  Home Improvement   Male        Married             Owned   \n",
       "4             5         Home Loan   Male        Married      Family Other   \n",
       "\n",
       "   No of years in the current address  No. of Years in the current job  \\\n",
       "0                                  32                                7   \n",
       "1                                   3                               17   \n",
       "2                                   7                                8   \n",
       "3                                  15                                7   \n",
       "4                                   4                               10   \n",
       "\n",
       "   Monthly Salary  Balance in Savings Account  Loan Amount Requested  Term  \\\n",
       "0            8000                        1406                 500000   120   \n",
       "1           30000                       42235                1000000   180   \n",
       "2            8000                       15217                 700000   120   \n",
       "3           20462                       29551                 250000    84   \n",
       "4           13534                        2056                 400000   180   \n",
       "\n",
       "   Down Payment   EMI Affordable   \n",
       "0         700000             8690  \n",
       "1         300000            16000  \n",
       "2         955000            15000  \n",
       "3         250000             5856  \n",
       "4         700000             6157  "
      ]
     },
     "execution_count": 43,
     "metadata": {},
     "output_type": "execute_result"
    }
   ],
   "source": [
    "data.head()"
   ]
  },
  {
   "cell_type": "code",
   "execution_count": 3,
   "id": "1a61ec28",
   "metadata": {},
   "outputs": [
    {
     "data": {
      "text/html": [
       "<div>\n",
       "<style scoped>\n",
       "    .dataframe tbody tr th:only-of-type {\n",
       "        vertical-align: middle;\n",
       "    }\n",
       "\n",
       "    .dataframe tbody tr th {\n",
       "        vertical-align: top;\n",
       "    }\n",
       "\n",
       "    .dataframe thead th {\n",
       "        text-align: right;\n",
       "    }\n",
       "</style>\n",
       "<table border=\"1\" class=\"dataframe\">\n",
       "  <thead>\n",
       "    <tr style=\"text-align: right;\">\n",
       "      <th></th>\n",
       "      <th>Applicant ID</th>\n",
       "      <th>No of years in the current address</th>\n",
       "      <th>No. of Years in the current job</th>\n",
       "      <th>Monthly Salary</th>\n",
       "      <th>Balance in Savings Account</th>\n",
       "      <th>Loan Amount Requested</th>\n",
       "      <th>Term</th>\n",
       "      <th>Down Payment</th>\n",
       "      <th>EMI Affordable</th>\n",
       "    </tr>\n",
       "  </thead>\n",
       "  <tbody>\n",
       "    <tr>\n",
       "      <th>count</th>\n",
       "      <td>3864.000000</td>\n",
       "      <td>3864.000000</td>\n",
       "      <td>3864.000000</td>\n",
       "      <td>3864.000000</td>\n",
       "      <td>3.864000e+03</td>\n",
       "      <td>3864.000000</td>\n",
       "      <td>3864.000000</td>\n",
       "      <td>3.864000e+03</td>\n",
       "      <td>3.864000e+03</td>\n",
       "    </tr>\n",
       "    <tr>\n",
       "      <th>mean</th>\n",
       "      <td>1932.500000</td>\n",
       "      <td>10.600414</td>\n",
       "      <td>10.926501</td>\n",
       "      <td>22618.984472</td>\n",
       "      <td>3.158295e+04</td>\n",
       "      <td>609055.261905</td>\n",
       "      <td>160.158126</td>\n",
       "      <td>4.274711e+05</td>\n",
       "      <td>1.288153e+04</td>\n",
       "    </tr>\n",
       "    <tr>\n",
       "      <th>std</th>\n",
       "      <td>1115.585048</td>\n",
       "      <td>10.905176</td>\n",
       "      <td>8.086977</td>\n",
       "      <td>19783.322389</td>\n",
       "      <td>1.274989e+05</td>\n",
       "      <td>245075.074723</td>\n",
       "      <td>37.995737</td>\n",
       "      <td>6.380023e+05</td>\n",
       "      <td>3.295702e+04</td>\n",
       "    </tr>\n",
       "    <tr>\n",
       "      <th>min</th>\n",
       "      <td>1.000000</td>\n",
       "      <td>0.000000</td>\n",
       "      <td>0.000000</td>\n",
       "      <td>0.000000</td>\n",
       "      <td>0.000000e+00</td>\n",
       "      <td>50000.000000</td>\n",
       "      <td>15.000000</td>\n",
       "      <td>0.000000e+00</td>\n",
       "      <td>8.400000e+01</td>\n",
       "    </tr>\n",
       "    <tr>\n",
       "      <th>25%</th>\n",
       "      <td>966.750000</td>\n",
       "      <td>2.000000</td>\n",
       "      <td>5.000000</td>\n",
       "      <td>12200.750000</td>\n",
       "      <td>1.500000e+03</td>\n",
       "      <td>400000.000000</td>\n",
       "      <td>180.000000</td>\n",
       "      <td>2.000000e+05</td>\n",
       "      <td>7.696000e+03</td>\n",
       "    </tr>\n",
       "    <tr>\n",
       "      <th>50%</th>\n",
       "      <td>1932.500000</td>\n",
       "      <td>6.000000</td>\n",
       "      <td>10.000000</td>\n",
       "      <td>19000.000000</td>\n",
       "      <td>6.357500e+03</td>\n",
       "      <td>600000.000000</td>\n",
       "      <td>180.000000</td>\n",
       "      <td>3.000000e+05</td>\n",
       "      <td>1.077400e+04</td>\n",
       "    </tr>\n",
       "    <tr>\n",
       "      <th>75%</th>\n",
       "      <td>2898.250000</td>\n",
       "      <td>15.000000</td>\n",
       "      <td>15.000000</td>\n",
       "      <td>28500.000000</td>\n",
       "      <td>2.500000e+04</td>\n",
       "      <td>800000.000000</td>\n",
       "      <td>180.000000</td>\n",
       "      <td>5.000000e+05</td>\n",
       "      <td>1.500000e+04</td>\n",
       "    </tr>\n",
       "    <tr>\n",
       "      <th>max</th>\n",
       "      <td>3864.000000</td>\n",
       "      <td>92.000000</td>\n",
       "      <td>65.000000</td>\n",
       "      <td>500000.000000</td>\n",
       "      <td>5.388413e+06</td>\n",
       "      <td>1000000.000000</td>\n",
       "      <td>180.000000</td>\n",
       "      <td>1.700000e+07</td>\n",
       "      <td>1.200000e+06</td>\n",
       "    </tr>\n",
       "  </tbody>\n",
       "</table>\n",
       "</div>"
      ],
      "text/plain": [
       "       Applicant ID  No of years in the current address  \\\n",
       "count   3864.000000                         3864.000000   \n",
       "mean    1932.500000                           10.600414   \n",
       "std     1115.585048                           10.905176   \n",
       "min        1.000000                            0.000000   \n",
       "25%      966.750000                            2.000000   \n",
       "50%     1932.500000                            6.000000   \n",
       "75%     2898.250000                           15.000000   \n",
       "max     3864.000000                           92.000000   \n",
       "\n",
       "       No. of Years in the current job  Monthly Salary  \\\n",
       "count                      3864.000000     3864.000000   \n",
       "mean                         10.926501    22618.984472   \n",
       "std                           8.086977    19783.322389   \n",
       "min                           0.000000        0.000000   \n",
       "25%                           5.000000    12200.750000   \n",
       "50%                          10.000000    19000.000000   \n",
       "75%                          15.000000    28500.000000   \n",
       "max                          65.000000   500000.000000   \n",
       "\n",
       "       Balance in Savings Account  Loan Amount Requested         Term  \\\n",
       "count                3.864000e+03            3864.000000  3864.000000   \n",
       "mean                 3.158295e+04          609055.261905   160.158126   \n",
       "std                  1.274989e+05          245075.074723    37.995737   \n",
       "min                  0.000000e+00           50000.000000    15.000000   \n",
       "25%                  1.500000e+03          400000.000000   180.000000   \n",
       "50%                  6.357500e+03          600000.000000   180.000000   \n",
       "75%                  2.500000e+04          800000.000000   180.000000   \n",
       "max                  5.388413e+06         1000000.000000   180.000000   \n",
       "\n",
       "       Down Payment   EMI Affordable   \n",
       "count   3.864000e+03     3.864000e+03  \n",
       "mean    4.274711e+05     1.288153e+04  \n",
       "std     6.380023e+05     3.295702e+04  \n",
       "min     0.000000e+00     8.400000e+01  \n",
       "25%     2.000000e+05     7.696000e+03  \n",
       "50%     3.000000e+05     1.077400e+04  \n",
       "75%     5.000000e+05     1.500000e+04  \n",
       "max     1.700000e+07     1.200000e+06  "
      ]
     },
     "execution_count": 3,
     "metadata": {},
     "output_type": "execute_result"
    }
   ],
   "source": [
    "data.describe()"
   ]
  },
  {
   "cell_type": "markdown",
   "id": "67aff636",
   "metadata": {},
   "source": [
    "# Hypothesis Testing\n",
    "\n",
    "#### Hypothesis testing is an act in statistics whereby an analyst tests an assumption regarding a population parameter. The methodology employed by the analyst depends on the nature of the data used and the reason for the analysis. Hypothesis testing is used to assess the plausibility of a hypothesis by using sample data.\n",
    "\n",
    "# Z-Test\n",
    "#### This a hypothesis test that uses the z-score as a test statistic. The sample size needs to greater then the 30 or the standard deviation of the population should be known. We will use the z-value to get the p-value. This p-value found will be the probability that the null hypothesis occurs. We need to set an alpha value that will be our confidence in our hypothesis and this is usually 0.05 to 0.01. This would be the range of values that we will ensure that our test is (1-alpha)*100 sure of the null hypothesis not being true. \n",
    "\n",
    "### Null Hypothesis: Temperature >= 15 Alternate Hypothesis : Temperature <=15\n",
    "### α = 0.05"
   ]
  },
  {
   "cell_type": "code",
   "execution_count": 44,
   "id": "84c3515b",
   "metadata": {},
   "outputs": [
    {
     "data": {
      "text/plain": [
       "count      3864.000000\n",
       "mean      22618.984472\n",
       "std       19783.322389\n",
       "min           0.000000\n",
       "25%       12200.750000\n",
       "50%       19000.000000\n",
       "75%       28500.000000\n",
       "max      500000.000000\n",
       "Name: Monthly Salary, dtype: float64"
      ]
     },
     "execution_count": 44,
     "metadata": {},
     "output_type": "execute_result"
    }
   ],
   "source": [
    "data[\"Monthly Salary\"].describe()"
   ]
  },
  {
   "cell_type": "code",
   "execution_count": 45,
   "id": "267a34ab",
   "metadata": {},
   "outputs": [
    {
     "name": "stdout",
     "output_type": "stream",
     "text": [
      "The probability of the null hypothesis is  0.12660696881797762\n",
      "This value is greater then the alpha value that we have. Therefore, the null hypothesis is not rejected\n"
     ]
    }
   ],
   "source": [
    "zvalue= (15 - data[\"Monthly Salary\"].mean()) / (data[\"Monthly Salary\"].std() )\n",
    "zprob=scipy.stats.norm.cdf(zvalue)\n",
    "print(\"The probability of the null hypothesis is \",zprob)\n",
    "print(\"This value is greater then the alpha value that we have. Therefore, the null hypothesis is not rejected\")"
   ]
  },
  {
   "cell_type": "markdown",
   "id": "991949e0",
   "metadata": {},
   "source": [
    "# T test\n",
    "#### As a t-test is a parametric test of difference, we use it where we need to check the correlation between the group of continuous data. It can only be used for two groups of data. If you want to compare more than two groups of data then use the ANOVA test or post-hoc test.\n",
    "\n",
    "# One sample t-test\n",
    "#### Null Hypothesis: No. Of Years In The Current Address >= 15 Alternate Hypothesis : No. Of Years In The Current Address <15"
   ]
  },
  {
   "cell_type": "code",
   "execution_count": 7,
   "id": "a6008398",
   "metadata": {},
   "outputs": [],
   "source": [
    "new_df = data.sample(n = 30)"
   ]
  },
  {
   "cell_type": "code",
   "execution_count": 46,
   "id": "140d278a",
   "metadata": {},
   "outputs": [
    {
     "data": {
      "text/plain": [
       "count       30.000000\n",
       "mean     22434.800000\n",
       "std      14598.947245\n",
       "min          0.000000\n",
       "25%      11476.500000\n",
       "50%      20000.000000\n",
       "75%      30375.000000\n",
       "max      70000.000000\n",
       "Name: Monthly Salary, dtype: float64"
      ]
     },
     "execution_count": 46,
     "metadata": {},
     "output_type": "execute_result"
    }
   ],
   "source": [
    "new_df['Monthly Salary'].describe()"
   ]
  },
  {
   "cell_type": "code",
   "execution_count": 47,
   "id": "38487115",
   "metadata": {},
   "outputs": [
    {
     "data": {
      "text/plain": [
       "(22434.8, 2620.5912307467306)"
      ]
     },
     "execution_count": 47,
     "metadata": {},
     "output_type": "execute_result"
    }
   ],
   "source": [
    "mean = np.mean(new_df['Monthly Salary'])\n",
    "std_error = np.std(new_df['Monthly Salary']) / np.sqrt(len(new_df['No of years in the current address']))\n",
    "(mean, std_error)"
   ]
  },
  {
   "cell_type": "code",
   "execution_count": 10,
   "id": "ba3c4f28",
   "metadata": {},
   "outputs": [
    {
     "data": {
      "text/plain": [
       "1.236976549122751"
      ]
     },
     "execution_count": 10,
     "metadata": {},
     "output_type": "execute_result"
    }
   ],
   "source": [
    "t = abs(mean - 15) / std_error\n",
    "t"
   ]
  },
  {
   "cell_type": "code",
   "execution_count": 11,
   "id": "eaef05db",
   "metadata": {},
   "outputs": [],
   "source": [
    "from scipy import stats"
   ]
  },
  {
   "cell_type": "code",
   "execution_count": 12,
   "id": "84a7e6f3",
   "metadata": {},
   "outputs": [
    {
     "name": "stdout",
     "output_type": "stream",
     "text": [
      "Critical value for t two tailed: 2.045229642132703\n"
     ]
    }
   ],
   "source": [
    "# Two tailed Student T test\n",
    "# α = 0.05\n",
    "t_crit = stats.t.ppf(q = 0.975, df = 29)\n",
    "print(\"Critical value for t two tailed:\",t_crit)"
   ]
  },
  {
   "cell_type": "code",
   "execution_count": 13,
   "id": "63ba4ed2",
   "metadata": {},
   "outputs": [
    {
     "name": "stdout",
     "output_type": "stream",
     "text": [
      "p-value: 0.2260194444006436\n"
     ]
    }
   ],
   "source": [
    "p_value = 2 * (1-stats.t.cdf(x = t, df = 29))\n",
    "print(\"p-value:\",p_value)"
   ]
  },
  {
   "cell_type": "code",
   "execution_count": 14,
   "id": "04ff54fe",
   "metadata": {},
   "outputs": [
    {
     "name": "stdout",
     "output_type": "stream",
     "text": [
      "Critical value for t one tailed: 1.6991270265334972\n"
     ]
    }
   ],
   "source": [
    "# One tailed T Test\n",
    "# α = 0.05\n",
    "t_crit = stats.t.ppf(q = 0.95, df = 29)\n",
    "print(\"Critical value for t one tailed:\",t_crit)"
   ]
  },
  {
   "cell_type": "markdown",
   "id": "8f43e80f",
   "metadata": {},
   "source": [
    "# Two sample t-test\n",
    "\n",
    "#### Taking the two features as Temperature and Apparent Temperature, \n",
    "#### H0 : There is no significant mean difference (μ1= μ2) \n",
    "#### H1 :  here is significant mean difference (μ1!= μ2)"
   ]
  },
  {
   "cell_type": "code",
   "execution_count": 15,
   "id": "6ee8ffd1",
   "metadata": {},
   "outputs": [
    {
     "data": {
      "text/plain": [
       "count    30.000000\n",
       "mean     12.100000\n",
       "std      13.060469\n",
       "min       1.000000\n",
       "25%       2.000000\n",
       "50%       6.500000\n",
       "75%      17.750000\n",
       "max      51.000000\n",
       "Name: No of years in the current address, dtype: float64"
      ]
     },
     "execution_count": 15,
     "metadata": {},
     "output_type": "execute_result"
    }
   ],
   "source": [
    "new_df['Monthly Salary'].describe()"
   ]
  },
  {
   "cell_type": "code",
   "execution_count": 17,
   "id": "173c2c5c",
   "metadata": {},
   "outputs": [
    {
     "data": {
      "text/plain": [
       "count    30.000000\n",
       "mean     11.433333\n",
       "std       6.739914\n",
       "min       1.000000\n",
       "25%       6.000000\n",
       "50%      10.000000\n",
       "75%      15.000000\n",
       "max      29.000000\n",
       "Name: No. of Years in the current job, dtype: float64"
      ]
     },
     "execution_count": 17,
     "metadata": {},
     "output_type": "execute_result"
    }
   ],
   "source": [
    "new_df['Monthly Salary'].describe()"
   ]
  },
  {
   "cell_type": "code",
   "execution_count": 48,
   "id": "aed780dc",
   "metadata": {},
   "outputs": [],
   "source": [
    "sample_1 = new_df['Monthly Salary']\n",
    "sample_2 = new_df['Loan Amount Requested']"
   ]
  },
  {
   "cell_type": "code",
   "execution_count": 49,
   "id": "56c66a79",
   "metadata": {},
   "outputs": [],
   "source": [
    "sample1_bar, sample2_bar = np.mean(sample_1), np.mean(sample_2)\n",
    "n1, n2 = len(sample_1), len(sample_2)\n",
    "var_sample1, var_sample2= np.var(sample_1, ddof = 1), np.var(sample_2, ddof = 1)"
   ]
  },
  {
   "cell_type": "code",
   "execution_count": 50,
   "id": "29a5a725",
   "metadata": {},
   "outputs": [],
   "source": [
    "# pooled sample variance\n",
    "var = ( ((n1 - 1) * var_sample1) + ((n2 - 1) * var_sample2) ) / (n1 + n2 - 2)\n",
    "# standard error\n",
    "std_error = np.sqrt(var * (1.0 / n1 + 1.0 / n2))"
   ]
  },
  {
   "cell_type": "code",
   "execution_count": 51,
   "id": "e2bfb8c7",
   "metadata": {},
   "outputs": [
    {
     "name": "stdout",
     "output_type": "stream",
     "text": [
      "sample_1 mean: 22434.8\n",
      "sample_2 mean: 577233.3333\n"
     ]
    }
   ],
   "source": [
    "print(\"sample_1 mean:\", np.round(sample1_bar, 4))\n",
    "print(\"sample_2 mean:\", np.round(sample2_bar, 4))"
   ]
  },
  {
   "cell_type": "code",
   "execution_count": 52,
   "id": "afdf5aca",
   "metadata": {},
   "outputs": [
    {
     "name": "stdout",
     "output_type": "stream",
     "text": [
      "variance of sample_1: 213129260.6483\n",
      "variance of sample_2: 83431702298.8506\n"
     ]
    }
   ],
   "source": [
    "print(\"variance of sample_1:\", np.round(var_sample1, 4))\n",
    "print(\"variance of sample_2:\", np.round(var_sample2, 4))"
   ]
  },
  {
   "cell_type": "code",
   "execution_count": 53,
   "id": "cdeef821",
   "metadata": {},
   "outputs": [
    {
     "name": "stdout",
     "output_type": "stream",
     "text": [
      "pooled sample variance: 41822415779.74943\n",
      "standard error: 52803.040177467956\n"
     ]
    }
   ],
   "source": [
    "print(\"pooled sample variance:\",var)\n",
    "print(\"standard error:\",std_error)"
   ]
  },
  {
   "cell_type": "code",
   "execution_count": 54,
   "id": "2cb78ac3",
   "metadata": {},
   "outputs": [
    {
     "name": "stdout",
     "output_type": "stream",
     "text": [
      "t static: 10.506942999279731\n",
      "Critical value for t two tailed: 2.1788128296634177\n"
     ]
    }
   ],
   "source": [
    "# calculate t statistics\n",
    "t = abs(sample1_bar - sample2_bar) / std_error\n",
    "print('t static:',t)\n",
    "# two-tailed critical value at alpha = 0.05\n",
    "t_c = stats.t.ppf(q=0.975, df=12)\n",
    "print(\"Critical value for t two tailed:\",t_c)"
   ]
  },
  {
   "cell_type": "code",
   "execution_count": 55,
   "id": "465a07ab",
   "metadata": {},
   "outputs": [
    {
     "name": "stdout",
     "output_type": "stream",
     "text": [
      "Critical value for t one tailed: 1.782287555649159\n"
     ]
    }
   ],
   "source": [
    "# one-tailed critical value at alpha = 0.05\n",
    "t_c = stats.t.ppf(q=0.95, df=12)\n",
    "print(\"Critical value for t one tailed:\",t_c)"
   ]
  },
  {
   "cell_type": "code",
   "execution_count": 56,
   "id": "cdbe1727",
   "metadata": {},
   "outputs": [
    {
     "name": "stdout",
     "output_type": "stream",
     "text": [
      "p-value for two tailed: 2.0935743849648247e-07\n"
     ]
    }
   ],
   "source": [
    "# get two-tailed p value\n",
    "p_two = 2*(1-stats.t.cdf(x=t, df=12))\n",
    "print(\"p-value for two tailed:\",p_two)"
   ]
  },
  {
   "cell_type": "code",
   "execution_count": 57,
   "id": "64d92251",
   "metadata": {},
   "outputs": [
    {
     "name": "stdout",
     "output_type": "stream",
     "text": [
      "p-value for one tailed: 1.0467871924824124e-07\n"
     ]
    }
   ],
   "source": [
    "# get one-tailed p value\n",
    "p_one = 1-stats.t.cdf(x=t, df=12)\n",
    "print(\"p-value for one tailed:\",p_one)"
   ]
  },
  {
   "cell_type": "markdown",
   "id": "e610e7e2",
   "metadata": {},
   "source": [
    "#### As observed in the output the p value is greater than the alpha value we are in support of the null hypothesis. Therefore there is no significant mean difference between the two samples.\n",
    "\n",
    "# Paired T Test\n",
    "#### These may be two measurements on each individual subject. (For example, Before and After 'treatment' scores on a questionnaire, exam, or lab test.)\n",
    "#### H0 : There is no change after the engine oil (x̄ 1= x̄ 2)\n",
    "#### H1 : There is a change after the engine oil (x̄ 1!= x̄ 2)"
   ]
  },
  {
   "cell_type": "code",
   "execution_count": 58,
   "id": "60711786",
   "metadata": {},
   "outputs": [],
   "source": [
    "# Paired T Test for showing Before and After Results\n",
    "# pre holds the mileage before applying\n",
    "# the different engine oil\n",
    "pre = [88, 82, 84, 93, 75, 78, 84, 87,\n",
    "95, 91, 83, 89, 77, 68, 91]\n",
    "# post holds the mileage before applying\n",
    "# the different engine oil\n",
    "post = [91, 84, 88, 90, 79, 80, 88, 90,\n",
    "90, 96, 88, 89, 81, 74, 92]"
   ]
  },
  {
   "cell_type": "code",
   "execution_count": 29,
   "id": "e8749ff8",
   "metadata": {},
   "outputs": [
    {
     "data": {
      "text/plain": [
       "Text(0, 0.5, 'Post')"
      ]
     },
     "execution_count": 29,
     "metadata": {},
     "output_type": "execute_result"
    },
    {
     "data": {
      "image/png": "[encoded data removed]",
      "text/plain": [
       "<Figure size 432x288 with 1 Axes>"
      ]
     },
     "metadata": {
      "needs_background": "light"
     },
     "output_type": "display_data"
    }
   ],
   "source": [
    "ax = sns.scatterplot(x = pre, y = post)\n",
    "ax.set_title(\"Pre vs Post Engine Oil\")\n",
    "ax.set_xlabel(\"Pre\")\n",
    "ax.set_ylabel(\"Post\")"
   ]
  },
  {
   "cell_type": "code",
   "execution_count": 30,
   "id": "2ff0d436",
   "metadata": {},
   "outputs": [
    {
     "data": {
      "image/png": "[encoded data removed]",
      "text/plain": [
       "<Figure size 360x360 with 1 Axes>"
      ]
     },
     "metadata": {
      "needs_background": "light"
     },
     "output_type": "display_data"
    }
   ],
   "source": [
    "df = pd.DataFrame()\n",
    "df['Pre'] = pre\n",
    "df['Post'] = post\n",
    "ax = sns.lmplot(x = \"Pre\", y = \"Post\", data = df)"
   ]
  },
  {
   "cell_type": "code",
   "execution_count": 31,
   "id": "06852e01",
   "metadata": {},
   "outputs": [
    {
     "data": {
      "text/plain": [
       "Ttest_relResult(statistic=-2.9732484231168796, pvalue=0.01007144862643272)"
      ]
     },
     "execution_count": 31,
     "metadata": {},
     "output_type": "execute_result"
    }
   ],
   "source": [
    "# Performing the paired sample t-test\n",
    "stats.ttest_rel(pre, post)"
   ]
  },
  {
   "cell_type": "markdown",
   "id": "67217024",
   "metadata": {},
   "source": [
    "#### As the p-value comes out to be equal to 0.01007 which is less than 0.05 hence we reject the null hypothesis. So, we have enough proof to claim that True mean test score is different for cars before and after applying the different engine oil. \n",
    "\n",
    "#### Checking whether there has been improvement in the marks from ISA to ISA.\n",
    "#### H0 : There is no improvement in the marks (x̄ 1= x̄ 2)\n",
    "#### H1 : There is an improvement in the marks (x̄ 1!= x̄ 2)"
   ]
  },
  {
   "cell_type": "code",
   "execution_count": 32,
   "id": "01d12409",
   "metadata": {},
   "outputs": [],
   "source": [
    "ISA2 = [17,13,17,10,19,19,13,14,16,10,15,8,9,13,7,13,13,12,17,12,12,12,19,16,16,10,9,16,16,17,11,8,17,14,15,10,15,9,9,18,15,7,13,18,7,18,14,15,5,15,10,13,13,16,8,11,12,11]\n",
    "ISA3 = [18,10,16,9,14,10,11,7,10,11,10,5,9,7,6,15,11,9,10,11,5,4,13,12,13,15,12,19,7,6,11,12,16,9,16,9,12,6,14,11,8,8,10,18,8,11,12,11,7,14,7,12,11,17,14,18,14,8]"
   ]
  },
  {
   "cell_type": "code",
   "execution_count": 33,
   "id": "3dc32dcd",
   "metadata": {},
   "outputs": [
    {
     "data": {
      "text/plain": [
       "Text(0, 0.5, 'ISA3')"
      ]
     },
     "execution_count": 33,
     "metadata": {},
     "output_type": "execute_result"
    },
    {
     "data": {
      "image/png": "[encoded data removed]",
      "text/plain": [
       "<Figure size 432x288 with 1 Axes>"
      ]
     },
     "metadata": {
      "needs_background": "light"
     },
     "output_type": "display_data"
    }
   ],
   "source": [
    "ax = sns.scatterplot(x = ISA2, y = ISA3)\n",
    "ax.set_title(\"ISA2 v s ISA3\")\n",
    "ax.set_xlabel(\"ISA2\")\n",
    "ax.set_ylabel(\"ISA3\")"
   ]
  },
  {
   "cell_type": "code",
   "execution_count": 35,
   "id": "4d25c1dd",
   "metadata": {},
   "outputs": [
    {
     "data": {
      "image/png": "[encoded data removed]",
      "text/plain": [
       "<Figure size 360x360 with 1 Axes>"
      ]
     },
     "metadata": {
      "needs_background": "light"
     },
     "output_type": "display_data"
    }
   ],
   "source": [
    "df = pd.DataFrame()\n",
    "df['ISA2'] = ISA2\n",
    "df['ISA3'] = ISA3\n",
    "ax = sns.lmplot(x = \"ISA2\", y = \"ISA3\", data = df)"
   ]
  },
  {
   "cell_type": "code",
   "execution_count": 37,
   "id": "77bd1c6a",
   "metadata": {},
   "outputs": [
    {
     "data": {
      "text/plain": [
       "Ttest_relResult(statistic=3.8822098553768263, pvalue=0.00027139429313903355)"
      ]
     },
     "execution_count": 37,
     "metadata": {},
     "output_type": "execute_result"
    }
   ],
   "source": [
    "stats.ttest_rel(ISA2, ISA3)"
   ]
  },
  {
   "cell_type": "markdown",
   "id": "0c310b89",
   "metadata": {},
   "source": [
    "#### As the p-value comes out to be equal to 0.000271 which is less than 0.05 hence we reject the null hypothesis. So, we have enough proof to claim that there is an improvement in the marks."
   ]
  },
  {
   "cell_type": "markdown",
   "id": "8c3e3629",
   "metadata": {},
   "source": [
    "# Chi-Sqaure Test\n",
    "\n"
   ]
  },
  {
   "cell_type": "code",
   "execution_count": 41,
   "id": "0ff05ef8",
   "metadata": {},
   "outputs": [
    {
     "name": "stdout",
     "output_type": "stream",
     "text": [
      "p value is 4.987377462630171e-14\n",
      "Dependent (reject H0)\n"
     ]
    }
   ],
   "source": [
    "data = [[50, 125, 90, 45], [75, 175, 30, 10]]\n",
    "stat, p, dof, expected = chi2_contingency(data)\n",
    "# interpret p-value\n",
    "alpha = 0.05\n",
    "print(\"p value is \" + str(p))\n",
    "if p <= alpha:\n",
    "    print('Dependent (reject H0)')\n",
    "else:\n",
    "    print('Independent (H0 holds true)')"
   ]
  },
  {
   "cell_type": "markdown",
   "id": "11f6f6af",
   "metadata": {},
   "source": [
    "#### Since p-value < alpha, Therefore, we reject H0, that is, the movie does influence the decision behind having snacks"
   ]
  },
  {
   "cell_type": "code",
   "execution_count": null,
   "id": "4adea1bf",
   "metadata": {},
   "outputs": [],
   "source": []
  }
 ],
 "metadata": {
  "kernelspec": {
   "display_name": "Python 3",
   "language": "python",
   "name": "python3"
  },
  "language_info": {
   "codemirror_mode": {
    "name": "ipython",
    "version": 3
   },
   "file_extension": ".py",
   "mimetype": "text/x-python",
   "name": "python",
   "nbconvert_exporter": "python",
   "pygments_lexer": "ipython3",
   "version": "3.8.8"
  }
 },
 "nbformat": 4,
 "nbformat_minor": 5
}
